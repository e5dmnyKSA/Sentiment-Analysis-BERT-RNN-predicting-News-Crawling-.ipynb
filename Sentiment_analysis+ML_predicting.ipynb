{
  "nbformat": 4,
  "nbformat_minor": 0,
  "metadata": {
    "colab": {
      "name": "Sentiment analysis+ML predicting.ipynb",
      "provenance": []
    },
    "kernelspec": {
      "name": "python3",
      "display_name": "Python 3"
    },
    "language_info": {
      "name": "python"
    }
  },
  "cells": [
    {
      "cell_type": "markdown",
      "source": [
        "### 2. Performing sentiment analysis using data extracted by using ML algorithms using traditional neural network and BERT by splitting the datasets into 80:20 for training datasets and validation datasets and export the model performance accuracy, recall and please compare neural network and BERT in terms of model performance and computation complexity."
      ],
      "metadata": {
        "id": "85VX-G1R2kCP"
      }
    },
    {
      "cell_type": "code",
      "source": [
        "import pandas as pd\n",
        "pd.set_option('display.max_columns', None)\n",
        "import numpy as np\n",
        "import numexpr as ne #for array運算,比np快數十倍。str要评估的查询字符串。你可以在环境中引用变量，在它们前面添加一个'@'字符 。@a + b #eval若表达式为逻辑，结果返回bool数组;query则返回bool数组的数据\n",
        "\n",
        "\n",
        "import seaborn as sns\n",
        "import matplotlib.pyplot as plt\n",
        "%matplotlib inline\n",
        "%config InlineBackend.figure_format = 'svg'\n",
        "sns.set_context('notebook') # talk/notebook/poster\n",
        "sns.set_style('whitegrid') # whitegrid , ticks\n",
        "sns.set_palette('bright') # with sns.color_palette(''): Qualitative:'bright' /hls husl Paired Set1~Set3（色调不同）; Sequential:'GnBu_d'/'BuGn_r' Blues[蓝s，颜色+s] BuGn[蓝绿] cubehelix; 特徵大min大max用Diverging: ('RdBu',7) BrBG[棕绿] RdBu[红蓝] coolwarm[冷暖]"
      ],
      "metadata": {
        "id": "tMM9IxUE2t-n"
      },
      "execution_count": null,
      "outputs": []
    },
    {
      "cell_type": "markdown",
      "source": [
        "#### **Statistical Analysis tools**"
      ],
      "metadata": {
        "id": "6MMpXav65Hy-"
      }
    },
    {
      "cell_type": "code",
      "source": [
        "import statsmodels.api as sm\n",
        "\n",
        "!pip install --upgrade requests\n",
        "!pip install folium==0.2.1\n",
        "#!pip install --upgrade MarkupSafe\n",
        "!pip install pandas_Profiling\n",
        "!pip install markupsafe==2.1.1\n",
        "#!pip install --upgrade pandas_Profiling\n",
        "#!pip install -U --pre pycaret\n",
        "!pip install pycaret\n",
        "!pip install --user --upgrade aws-sam-cli\n",
        "#!pip install --user aws-sam-cli\n",
        "from pandas_profiling import ProfileReport\n",
        "\n",
        "import warnings\n",
        "warnings.filterwarnings('ignore')"
      ],
      "metadata": {
        "id": "z1HNIqii2pIH"
      },
      "execution_count": null,
      "outputs": []
    },
    {
      "cell_type": "markdown",
      "source": [
        "#### Splitting the datasets into 80:20 for training datasets and validation datasets"
      ],
      "metadata": {
        "id": "OCPqKmwd5VJ-"
      }
    },
    {
      "cell_type": "code",
      "source": [
        "df"
      ],
      "metadata": {
        "colab": {
          "base_uri": "https://localhost:8080/"
        },
        "id": "z5BZyviF5ORm",
        "outputId": "bce49b8b-660f-4015-d3fe-edaa3cca249c"
      },
      "execution_count": null,
      "outputs": [
        {
          "output_type": "execute_result",
          "data": {
            "text/plain": [
              "                                              Headline      Releasing time  \\\n",
              "0    PBOC Reportedly Accepts Ant's Application to F... 2022-06-17 19:05:00   \n",
              "1    HKD336.4M Southbound Trading Net Inflow to GCL... 2022-06-17 18:25:00   \n",
              "2    CKA: Harbour Plaza Resort City Hotel Rooms Con... 2022-06-17 17:39:00   \n",
              "3    PARKnSHOP: 1Q Turnover Posts Double-digit Grow... 2022-06-17 17:14:00   \n",
              "4    ByteDance Disbands 101 Studio, Sacks About 150... 2022-06-17 17:12:00   \n",
              "..                                                 ...                 ...   \n",
              "295  <Resumption Ann>CHINA JINMAO Proposes Privatiz... 2022-06-10 08:20:00   \n",
              "296  Alibaba’s Shr Price Plunges over 8%; Ant: Focu... 2022-06-10 08:15:00   \n",
              "297  <US Stocks>DJIA Craters 638 pts or 1.9%; Aliba... 2022-06-10 08:12:00   \n",
              "298  BILIBILI-SW: Covid Not to Hurt Long-term Funda... 2022-06-10 07:30:00   \n",
              "299  CBIRC: Large State-owned Banks Required to Ens... 2022-06-10 07:21:00   \n",
              "\n",
              "     Company name Stock Code  \\\n",
              "0         BABA-SW      09988   \n",
              "1        GCL TECH      03800   \n",
              "2        CK ASSET      01113   \n",
              "3    CKH HOLDINGS      00001   \n",
              "4         TENCENT      00700   \n",
              "..            ...        ...   \n",
              "295    CHINA VAST      06166   \n",
              "296       BABA-SW      09988   \n",
              "297       BABA-SW      09988   \n",
              "298   BILIBILI-SW      09626   \n",
              "299           CCB      00939   \n",
              "\n",
              "                                              Abstract  Polarity  \n",
              "0    The People's Bank of China (PBOC) has accepted...  positive  \n",
              "1    There was HKD336.4 million, HKD297.1 million a...  positive  \n",
              "2    CK ASSET (01113.HK)  -0.500 (-0.967%)    Short...  positive  \n",
              "3    Norman Yum, Managing Director of PARKnSHOP Sup...  positive  \n",
              "4    ByteDance disbanded its \"101 Studio\" gaming op...  positive  \n",
              "..                                                 ...       ...  \n",
              "295  CHINA VAST (06166.HK)  0.000 (0.000%)   receiv...  positive  \n",
              "296  Alibaba Group Holding (BABA.US)    ’s share pr...  positive  \n",
              "297  U.S. stocks declined as investors turned incre...  positive  \n",
              "298  The first-quarter results of BILIBILI-SW (0962...  negative  \n",
              "299  China Banking and Insurance Regulatory Commiss...  positive  \n",
              "\n",
              "[300 rows x 6 columns]"
            ],
            "text/html": [
              "\n",
              "  <div id=\"df-bcf471d5-5b57-4a71-a709-de780728e10c\">\n",
              "    <div class=\"colab-df-container\">\n",
              "      <div>\n",
              "<style scoped>\n",
              "    .dataframe tbody tr th:only-of-type {\n",
              "        vertical-align: middle;\n",
              "    }\n",
              "\n",
              "    .dataframe tbody tr th {\n",
              "        vertical-align: top;\n",
              "    }\n",
              "\n",
              "    .dataframe thead th {\n",
              "        text-align: right;\n",
              "    }\n",
              "</style>\n",
              "<table border=\"1\" class=\"dataframe\">\n",
              "  <thead>\n",
              "    <tr style=\"text-align: right;\">\n",
              "      <th></th>\n",
              "      <th>Headline</th>\n",
              "      <th>Releasing time</th>\n",
              "      <th>Company name</th>\n",
              "      <th>Stock Code</th>\n",
              "      <th>Abstract</th>\n",
              "      <th>Polarity</th>\n",
              "    </tr>\n",
              "  </thead>\n",
              "  <tbody>\n",
              "    <tr>\n",
              "      <th>0</th>\n",
              "      <td>PBOC Reportedly Accepts Ant's Application to F...</td>\n",
              "      <td>2022-06-17 19:05:00</td>\n",
              "      <td>BABA-SW</td>\n",
              "      <td>09988</td>\n",
              "      <td>The People's Bank of China (PBOC) has accepted...</td>\n",
              "      <td>positive</td>\n",
              "    </tr>\n",
              "    <tr>\n",
              "      <th>1</th>\n",
              "      <td>HKD336.4M Southbound Trading Net Inflow to GCL...</td>\n",
              "      <td>2022-06-17 18:25:00</td>\n",
              "      <td>GCL TECH</td>\n",
              "      <td>03800</td>\n",
              "      <td>There was HKD336.4 million, HKD297.1 million a...</td>\n",
              "      <td>positive</td>\n",
              "    </tr>\n",
              "    <tr>\n",
              "      <th>2</th>\n",
              "      <td>CKA: Harbour Plaza Resort City Hotel Rooms Con...</td>\n",
              "      <td>2022-06-17 17:39:00</td>\n",
              "      <td>CK ASSET</td>\n",
              "      <td>01113</td>\n",
              "      <td>CK ASSET (01113.HK)  -0.500 (-0.967%)    Short...</td>\n",
              "      <td>positive</td>\n",
              "    </tr>\n",
              "    <tr>\n",
              "      <th>3</th>\n",
              "      <td>PARKnSHOP: 1Q Turnover Posts Double-digit Grow...</td>\n",
              "      <td>2022-06-17 17:14:00</td>\n",
              "      <td>CKH HOLDINGS</td>\n",
              "      <td>00001</td>\n",
              "      <td>Norman Yum, Managing Director of PARKnSHOP Sup...</td>\n",
              "      <td>positive</td>\n",
              "    </tr>\n",
              "    <tr>\n",
              "      <th>4</th>\n",
              "      <td>ByteDance Disbands 101 Studio, Sacks About 150...</td>\n",
              "      <td>2022-06-17 17:12:00</td>\n",
              "      <td>TENCENT</td>\n",
              "      <td>00700</td>\n",
              "      <td>ByteDance disbanded its \"101 Studio\" gaming op...</td>\n",
              "      <td>positive</td>\n",
              "    </tr>\n",
              "    <tr>\n",
              "      <th>...</th>\n",
              "      <td>...</td>\n",
              "      <td>...</td>\n",
              "      <td>...</td>\n",
              "      <td>...</td>\n",
              "      <td>...</td>\n",
              "      <td>...</td>\n",
              "    </tr>\n",
              "    <tr>\n",
              "      <th>295</th>\n",
              "      <td>&lt;Resumption Ann&gt;CHINA JINMAO Proposes Privatiz...</td>\n",
              "      <td>2022-06-10 08:20:00</td>\n",
              "      <td>CHINA VAST</td>\n",
              "      <td>06166</td>\n",
              "      <td>CHINA VAST (06166.HK)  0.000 (0.000%)   receiv...</td>\n",
              "      <td>positive</td>\n",
              "    </tr>\n",
              "    <tr>\n",
              "      <th>296</th>\n",
              "      <td>Alibaba’s Shr Price Plunges over 8%; Ant: Focu...</td>\n",
              "      <td>2022-06-10 08:15:00</td>\n",
              "      <td>BABA-SW</td>\n",
              "      <td>09988</td>\n",
              "      <td>Alibaba Group Holding (BABA.US)    ’s share pr...</td>\n",
              "      <td>positive</td>\n",
              "    </tr>\n",
              "    <tr>\n",
              "      <th>297</th>\n",
              "      <td>&lt;US Stocks&gt;DJIA Craters 638 pts or 1.9%; Aliba...</td>\n",
              "      <td>2022-06-10 08:12:00</td>\n",
              "      <td>BABA-SW</td>\n",
              "      <td>09988</td>\n",
              "      <td>U.S. stocks declined as investors turned incre...</td>\n",
              "      <td>positive</td>\n",
              "    </tr>\n",
              "    <tr>\n",
              "      <th>298</th>\n",
              "      <td>BILIBILI-SW: Covid Not to Hurt Long-term Funda...</td>\n",
              "      <td>2022-06-10 07:30:00</td>\n",
              "      <td>BILIBILI-SW</td>\n",
              "      <td>09626</td>\n",
              "      <td>The first-quarter results of BILIBILI-SW (0962...</td>\n",
              "      <td>negative</td>\n",
              "    </tr>\n",
              "    <tr>\n",
              "      <th>299</th>\n",
              "      <td>CBIRC: Large State-owned Banks Required to Ens...</td>\n",
              "      <td>2022-06-10 07:21:00</td>\n",
              "      <td>CCB</td>\n",
              "      <td>00939</td>\n",
              "      <td>China Banking and Insurance Regulatory Commiss...</td>\n",
              "      <td>positive</td>\n",
              "    </tr>\n",
              "  </tbody>\n",
              "</table>\n",
              "<p>300 rows × 6 columns</p>\n",
              "</div>\n",
              "      <button class=\"colab-df-convert\" onclick=\"convertToInteractive('df-bcf471d5-5b57-4a71-a709-de780728e10c')\"\n",
              "              title=\"Convert this dataframe to an interactive table.\"\n",
              "              style=\"display:none;\">\n",
              "        \n",
              "  <svg xmlns=\"http://www.w3.org/2000/svg\" height=\"24px\"viewBox=\"0 0 24 24\"\n",
              "       width=\"24px\">\n",
              "    <path d=\"M0 0h24v24H0V0z\" fill=\"none\"/>\n",
              "    <path d=\"M18.56 5.44l.94 2.06.94-2.06 2.06-.94-2.06-.94-.94-2.06-.94 2.06-2.06.94zm-11 1L8.5 8.5l.94-2.06 2.06-.94-2.06-.94L8.5 2.5l-.94 2.06-2.06.94zm10 10l.94 2.06.94-2.06 2.06-.94-2.06-.94-.94-2.06-.94 2.06-2.06.94z\"/><path d=\"M17.41 7.96l-1.37-1.37c-.4-.4-.92-.59-1.43-.59-.52 0-1.04.2-1.43.59L10.3 9.45l-7.72 7.72c-.78.78-.78 2.05 0 2.83L4 21.41c.39.39.9.59 1.41.59.51 0 1.02-.2 1.41-.59l7.78-7.78 2.81-2.81c.8-.78.8-2.07 0-2.86zM5.41 20L4 18.59l7.72-7.72 1.47 1.35L5.41 20z\"/>\n",
              "  </svg>\n",
              "      </button>\n",
              "      \n",
              "  <style>\n",
              "    .colab-df-container {\n",
              "      display:flex;\n",
              "      flex-wrap:wrap;\n",
              "      gap: 12px;\n",
              "    }\n",
              "\n",
              "    .colab-df-convert {\n",
              "      background-color: #E8F0FE;\n",
              "      border: none;\n",
              "      border-radius: 50%;\n",
              "      cursor: pointer;\n",
              "      display: none;\n",
              "      fill: #1967D2;\n",
              "      height: 32px;\n",
              "      padding: 0 0 0 0;\n",
              "      width: 32px;\n",
              "    }\n",
              "\n",
              "    .colab-df-convert:hover {\n",
              "      background-color: #E2EBFA;\n",
              "      box-shadow: 0px 1px 2px rgba(60, 64, 67, 0.3), 0px 1px 3px 1px rgba(60, 64, 67, 0.15);\n",
              "      fill: #174EA6;\n",
              "    }\n",
              "\n",
              "    [theme=dark] .colab-df-convert {\n",
              "      background-color: #3B4455;\n",
              "      fill: #D2E3FC;\n",
              "    }\n",
              "\n",
              "    [theme=dark] .colab-df-convert:hover {\n",
              "      background-color: #434B5C;\n",
              "      box-shadow: 0px 1px 3px 1px rgba(0, 0, 0, 0.15);\n",
              "      filter: drop-shadow(0px 1px 2px rgba(0, 0, 0, 0.3));\n",
              "      fill: #FFFFFF;\n",
              "    }\n",
              "  </style>\n",
              "\n",
              "      <script>\n",
              "        const buttonEl =\n",
              "          document.querySelector('#df-bcf471d5-5b57-4a71-a709-de780728e10c button.colab-df-convert');\n",
              "        buttonEl.style.display =\n",
              "          google.colab.kernel.accessAllowed ? 'block' : 'none';\n",
              "\n",
              "        async function convertToInteractive(key) {\n",
              "          const element = document.querySelector('#df-bcf471d5-5b57-4a71-a709-de780728e10c');\n",
              "          const dataTable =\n",
              "            await google.colab.kernel.invokeFunction('convertToInteractive',\n",
              "                                                     [key], {});\n",
              "          if (!dataTable) return;\n",
              "\n",
              "          const docLinkHtml = 'Like what you see? Visit the ' +\n",
              "            '<a target=\"_blank\" href=https://colab.research.google.com/notebooks/data_table.ipynb>data table notebook</a>'\n",
              "            + ' to learn more about interactive tables.';\n",
              "          element.innerHTML = '';\n",
              "          dataTable['output_type'] = 'display_data';\n",
              "          await google.colab.output.renderOutput(dataTable, element);\n",
              "          const docLink = document.createElement('div');\n",
              "          docLink.innerHTML = docLinkHtml;\n",
              "          element.appendChild(docLink);\n",
              "        }\n",
              "      </script>\n",
              "    </div>\n",
              "  </div>\n",
              "  "
            ]
          },
          "metadata": {},
          "execution_count": 98
        }
      ]
    },
    {
      "cell_type": "markdown",
      "source": [
        "#### Traditional neural network performance accuracy, recall and complexity (RNN) https://www.baeldung.com/cs/networks-in-nlp"
      ],
      "metadata": {
        "id": "ktVvK7pn5mc9"
      }
    },
    {
      "cell_type": "code",
      "source": [
        ""
      ],
      "metadata": {
        "id": "i-rv0Yg-5yJ1"
      },
      "execution_count": null,
      "outputs": []
    },
    {
      "cell_type": "markdown",
      "source": [
        "#### BERT performance accuracy, recall and complexity"
      ],
      "metadata": {
        "id": "DMQxs0NT5ytG"
      }
    },
    {
      "cell_type": "code",
      "source": [
        ""
      ],
      "metadata": {
        "id": "wSy0aJYf5_cl"
      },
      "execution_count": null,
      "outputs": []
    },
    {
      "cell_type": "markdown",
      "source": [
        "#### Compare Two models accuracy, recall and complexity"
      ],
      "metadata": {
        "id": "OWi4PgCK6FDt"
      }
    },
    {
      "cell_type": "code",
      "source": [
        ""
      ],
      "metadata": {
        "id": "VlPc5Am56O99"
      },
      "execution_count": null,
      "outputs": []
    },
    {
      "cell_type": "markdown",
      "source": [
        "### 3. Plot the sentiment analysis results as below figure by using the prediction results of polarity of last 14 days news (number of negative, positive, neutral)\n",
        "![thumbnail_image003.jpg](data:image/jpeg;base64,/9j/4AAQSkZJRgABAQEAkACQAAD/2wBDAAoHBwgHBgoICAgLCgoLDhgQDg0NDh0VFhEYIx8lJCIfIiEmKzcvJik0KSEiMEExNDk7Pj4+JS5ESUM8SDc9Pjv/2wBDAQoLCw4NDhwQEBw7KCIoOzs7Ozs7Ozs7Ozs7Ozs7Ozs7Ozs7Ozs7Ozs7Ozs7Ozs7Ozs7Ozs7Ozs7Ozs7Ozs7Ozv/wAARCAEkBGsDASIAAhEBAxEB/8QAHwAAAQUBAQEBAQEAAAAAAAAAAAECAwQFBgcICQoL/8QAtRAAAgEDAwIEAwUFBAQAAAF9AQIDAAQRBRIhMUEGE1FhByJxFDKBkaEII0KxwRVS0fAkM2JyggkKFhcYGRolJicoKSo0NTY3ODk6Q0RFRkdISUpTVFVWV1hZWmNkZWZnaGlqc3R1dnd4eXqDhIWGh4iJipKTlJWWl5iZmqKjpKWmp6ipqrKztLW2t7i5usLDxMXGx8jJytLT1NXW19jZ2uHi4+Tl5ufo6erx8vP09fb3+Pn6/8QAHwEAAwEBAQEBAQEBAQAAAAAAAAECAwQFBgcICQoL/8QAtREAAgECBAQDBAcFBAQAAQJ3AAECAxEEBSExBhJBUQdhcRMiMoEIFEKRobHBCSMzUvAVYnLRChYkNOEl8RcYGRomJygpKjU2Nzg5OkNERUZHSElKU1RVVldYWVpjZGVmZ2hpanN0dXZ3eHl6goOEhYaHiImKkpOUlZaXmJmaoqOkpaanqKmqsrO0tba3uLm6wsPExcbHyMnK0tPU1dbX2Nna4uPk5ebn6Onq8vP09fb3+Pn6/9oADAMBAAIRAxEAPwD02iiitTEKKKKACiiigAooooAKKKKACiiigAooooAKKKKACiiigAooooAKKKKACiiigAooooAKKKKACiiigAooooAKKKKACiiigAooooAKKKKACiiigAooooAKKKKACiiigAooooAKKKKACiiigAooooAKKKKACiiigAoowfSkQ7yQobhtpypH/wCv60ALRVZdQtWhjmEwMcs3ko2Dy+SMfmDVnGKACimGaJSVaWNSOoLgUCaJiAssZJ6AODQIfRVE6xZDVZ9MLsLmC3FwyleCnPQ9zx0qW11C1u7e2mjmVRdRiSFHYK7KRn7vWgZZoqMTwNK0KzxGVfvRhxuH1HWq1xrGnWyQu95CVmnWBCkgYbz0HB4oAu0VDFcwywmUOqqDhtzL8v1wcCnpNDKzrHNHIyHDhHBKn0OOlAD6Kha8tEYq13bqwOCDKoI/Whbu1kYIl1A7HoqyqSfwzQK6JqKzrnWobe/ksUtLy5nihWZxBGGCqSQOrD0PFWLXUbO8t7aeG5jKXSB4QzBWcewPNAyzRUD3luiy7ZUkaEZeNHUsv1GePxxUFtrFjeOywTq+yZ4WbcoCuvUdffjFAF6io5Li3h/1txFHggHfIF5PQc96c7pGMu6oPViBQIdRUf2m3/5+If8Av4KivdQt7DTZ9QmYtBboXcxDccD0Hc0PTcE09izRVOLVrOea3ijkLG5tzcxtj5fLBAJJ7HkVYjnglVWjnikVzhWRwQx9BjrQMkoqmNW0838lkLuLzo4hMwLjAUkgc59RU63Vs7xot1AzSDMaiVSXHqBnn8KAJaKr2F7DqVlFeW+4xSgldwweDjp+FWKACiiigAooooAKKKKACiiigAooooAKKKKACiiigAooooAKKKKACiiigAooooAKKKKACiiigAooooAKKKKACiiigAooooAKKKKACiiigAooooAKKKKACiiigAooooAKKKKACiiigAooooAKvW3+oX8f51Rq9bf6hfx/nSYIo0UUUwCiiigAooooAKKKKACiiigAooooAKKKKACiiigAooooAKKKKACiiigAooooAKKKKACiiigAooooAKKKKACiiigAooooAKKKKACiiigAooooAKKKKACiiigAooooAKKKKACiiigAooooAKKKKACiiigAqnqtrLeWDx27hLhCJIGY4AdTkZ9ux+tXKKAOMuvCepy3DCI26p5TRmUSENJuQDnjP3snrjpgZqfUfDOoTZitEtlhFw8kRL4MQJTGODjhT0wenOK6yilYLnJQ+GdQW9WVRb2wW4aRnjlJM2ZCwYjHBUHA+tanhrSbrSbaaO6k3M5Xo4IJC4LYCjBPXufU1s0UJWBu5A9laSuXktYXdurNGCTQljaROHjtYUdejLGARU9FO4rI53U9FvLnUtSvbdVWbyIvsbswwzqHDKfQENg/X2rIt/DOrIsccsTkyR2gVkeL9wYwAwLEFhggkbM5zXc0UrDueex28lzPbWFlb21xewRXwkut6kSlsgb8HcMk4O7HPTNW4fD+pG9W4awkaJJ7STZK0O47N+/Cr8oADDA7gV22ACSAAT1460tCVht3OJtvCupIlpa7Eitrlc6hhxlXjdmjI9c5UH/dq74a0S/sLu2kuo3Q21o0Ej7ogsrFgeNgyw4Jy2CM/WupooSsJu5Rl0PSJpWll0qykkc7mdoFJY+pOKWHRdJt5kmg0uzilQ5V0gUMp9QQKu0VV2TyrsYc2jTXfia7vJJrmC2ksooVa3n2F2DPuB79CPzrOvfDs8b3trYafGY7hbdLS43gfZBHjOcncMYLDbnJPNdbRU2KucZd6DqTQ39rZWRWCaGZcXBiZtzOGASQfMVPJIfpxSy+F7q7uJYZLVYojPeSLMCvHmBTGwA5yGH4YrsqKLDucQfD2syyJqd7B5t1dRzfa4IjE+x2wFx5ny42qASORmuqstPRNItLO8jWcwRIreZiTkDHUjn64q7RTWmxLSe5V/svTv8Anwtv+/S/4VW1rT2n8N31hYQIryxFY41woLH9K06Kbk2rNkxhGLukcbq/hnVJr24jsdgs3tG8r5wNrtIjPFj+6dpI7fMQamt9I1C3v4dSWzlZY74TGAtCrlfKKFgq4QHJHfJAz7V1lFTYu5wkfhfUvsXkzadGWlt4kfDoQpW5aRgT3+Uj8sVc1bRNSn1iWS3s8RfbLeWFoWjRPLUruLZ+fcMHCjA5rr6KLDuZ3h+0nsNCtbW5QJLGG3KCDjLE9R9a0aKKYgooooAKKKKACiiigAooooAKKKKACiiigAooooAKKKKACiiigAooooAKKKKACiiigAooooAKKKKACiiigAooooAKKKKACiiigAooooAKKKKACiiigAooooAKKKKACiiigAooooAKKKKACr1t/qF/H+dUavW3+oX8f50mCKNFFFMAooooAKKKKACiiigAooooAKKKKACiiigAooooAKKKKACiiigAooooAKKKKACiiigAooooAKKKKACiiigAooooAKKKKACiiigAooooAKKKKACiiigAooooAKKKKACiiigAooooAKKKKACiiigAooooAKKKKACiiigAooooAKKKKACiiigAooooAKKKKACiiigAooooAKKKKACiiigAooooAKKKKACiiigAooooAKKKKACiiigAooooAKKKKACiiigAooooAKKKKACiiigAooooAKKKKACiiigAooooAKKKKACiiigAooooAKKKKACiiigAooooAKKKKACiiigAooooAKKKKACiiigAooooAKKKKACiiigAq9bf6hfx/nVGr1t/qF/H+dJgijRRRTAp6pf/ANm2LXOxXw6r877VXJxljg4A+hrMj8UqwhkeyZICqec/mAmNnDFQBj5h8vXjqOK1r+yW/t1iMjRMkiyxyIASjqcg4PB/Gs6LwvZxNEPOmaJAPMiJGJmG7DNxkH5zwMDp6UtR6EH/AAlEvkkf2d/pO3zfK8/jyvL8zdux1xxjHXv3roIGW4jjkjICyKGUtxwRmsT/AIRaD7Ps+3XXm/d8/wCXd5ezy9nTGNvfrnmtpEWONY0GERQqj0A6UxE3lN/z0j/77FHlN/z0j/77FR0UgJPKb/npH/32KPKb/npH/wB9io6KAJPKb/npH/32KPKb/npH/wB9io6KAJPKb/npH/32KPKb/npH/wB9io6KAJPKb/npH/32KPKb/npH/wB9io6KAJPKb/npH/32KPKb/npH/wB9io6KAJPKb/npH/32KPKb/npH/wB9io6KAJPKb/npH/32KPKb/npH/wB9io6KAJPKb/npH/32KPKb/npH/wB9io6KAJPKb/npH/32KPKb/npH/wB9io6KAJPKb/npH/32KPKb/npH/wB9io6KAJPKb/npH/32KPKb/npH/wB9io6KAJPKb/npH/32KPKb/npH/wB9io6KAJPKb/npH/32KPKb/npH/wB9io6KAJPKb/npH/32KPKb/npH/wB9io6KAJPKb/npH/32KPKb/npH/wB9io6KAJPKb/npH/32KPKb/npH/wB9io6KAJPKb/npH/32KPKb/npH/wB9io6KAJPKb/npH/32KPKb/npH/wB9io6KAJPKb/npH/32KPKb/npH/wB9io6KAJPKb/npH/32KPKb/npH/wB9io6KAJPKb/npH/32KPKb/npH/wB9io6KAJPKb/npH/32KPKb/npH/wB9io6KAJPKb/npH/32KPKb/npH/wB9io6KAJPKb/npH/32KPKb/npH/wB9io6KAJPKb/npH/32KPKb/npH/wB9io6KAJPKb/npH/32KPKb/npH/wB9io6KAJPKb/npH/32KPKb/npH/wB9io6KAJPKb/npH/32KPKb/npH/wB9io6KAJPKb/npH/32KPKb/npH/wB9io6KAJPKb/npH/32KPKb/npH/wB9io6KAJPKb/npH/32KPKb/npH/wB9io6KAJPKb/npH/32KPKb/npH/wB9io6KAJPKb/npH/32KPKb/npH/wB9io6KAJPKb/npH/32KPKb/npH/wB9io6KAJPKb/npH/32KPKb/npH/wB9io6KAJPKb/npH/32KPKb/npH/wB9io6KAJPKb/npH/32KPKb/npH/wB9io6KAJPKb/npH/32KPKb/npH/wB9io6KAJPKb/npH/32KPKb/npH/wB9io6KAJPKb/npH/32KPKb/npH/wB9io6KAKWtXU2mwQyx+W4aUK4Bz8uCT/KtBV3qGWSIqwyDvHIrPvFEmoWMTjKEyMR7hcD+Zplk0lk0enzrlORBMDw4HO0jsQP5VVtCb6mp5Tf89I/++xR5Tf8APSP/AL7FR0VJRJ5Tf89I/wDvsUeU3/PSP/vsVHRQBJ5Tf89I/wDvsUeU3/PSP/vsVHRQBJ5Tf89I/wDvsUeU3/PSP/vsVHRQBJ5Tf89I/wDvsUeU3/PSP/vsVHRQBJ5Tf89I/wDvsUeU3/PSP/vsVHRQBJ5Tf89I/wDvsUeU3/PSP/vsVHRQBJ5Tf89I/wDvsUeU3/PSP/vsVHRQBJ5Tf89I/wDvsUeU3/PSP/vsVHRQBJ5Tf89I/wDvsUeU3/PSP/vsVHRQBJ5Tf89I/wDvsUeU3/PSP/vsVHRQBJ5Tf89I/wDvsUeU3/PSP/vsVHRQBJ5Tf89I/wDvsUeU3/PSP/vsVHRQBJ5Tf89I/wDvsUeU3/PSP/vsVHRQBJ5Tf89I/wDvsUeU3/PSP/vsVHRQBJ5Tf89I/wDvsUeU3/PSP/vsVHRQBJ5Tf89I/wDvsUeU3/PSP/vsVHRQBJ5Tf89I/wDvsUeU3/PSP/vsVHRQBJ5Tf89I/wDvsUeU3/PSP/vsVHRQBJ5Tf89I/wDvsUeU3/PSP/vsVHRQBJ5Tf89I/wDvsUeU3/PSP/vsVHRQBJ5Tf89I/wDvsUeU3/PSP/vsVHRQBJ5Tf89I/wDvsUeU3/PSP/vsVHRQBJ5Tf89I/wDvsUeU3/PSP/vsVHRQBJ5Tf89I/wDvsUeU3/PSP/vsVHRQAEYJHBx6Vetv9Qv4/wA6o1etv9Qv4/zoBFGiiimAUUUUAFFFFABRRRQAUUUUAFFFFABRRRQAUUUUAFFFFABRRRQAUUUUAFFFFABRRRQAUUUUAFFFFABRRRQAUUUUAFFFFABRRRQAUUUUAFFFFABRRRQAUUUUAFFFFABRRRQAUUUUAFFFFABRRRQAUUUUAFFFFABRRRQAUUUUAFFFFABRRRQAUUUUAFFFFABRRRQAUUUUAFFFFABRRRQAUUUUAFUZLuRNbgtNyiKSFmwRzuB4xV6sa+/5DsM/Q2xjTB6HeTk+2KaJk7GzRRRSKCiiigCnJ82tQKeiW7sv1JA/lRe8XmnseAJmBP1Q4oT5tbmzz5dugX2yTn+Qo1L7tp/19R/1pkdC5RRRSLCiiigAooooAKKKKACiiigAooooAKKKKACiiigAooooAKKKKACiiigAooooAKKKKACiiigAooooAKKKKACiiigAooooAKKKKACiiigAooooAKKKKACiiigAooooAKKKKACr1t/qF/H+dUavW3+oX8f50mCKNFFFMAooooAKKKKACiiigAooooAKKKKACiiigAooooAKKKKACiiigAooooAKKKKACiiigAooooAKKKKACiiigAooooAKKKKACiiigAooooAKKKKACiiigAooooAKKKKACiiigAooooAKKKKACiiigAooooAKKKKACiiigAooooAKKKKACiiigAooooAKKKKACiiigAooooAKKKKACiiigAooooAKx71fM/tWQdI44wfcr835cirmpX32COF9qlZJljYsfug96LIZu9QPVTMBnscIAaa01IeuhbDb1DdNwzS1UtG8m4lscfLGBJEf9gnp+B4+lW6RSCmu6RozyMFRRlmPQCnVR1bL2a265zcSrF+BOT+gNCBuyJbRC7SXcilXmwACMFUH3QffnP41Hq//ACDm/wCukf8A6GKu1U1UD+yrk91jLD2I5BprcTWgyPUDJrM9kVARF+RsclhjcP1FXqw4AV0621FgQ/2kzMc87XO05P0x+VblDCLCiiikUFFFFABRRRQAUUUUAFFFFABRRRQAUUUUAFFFFABRRRQAUUUUAFFFFABRRRQAUUUUAFFFFABRRRQAUUUUAFFFFABRRRQAUUUUAFFFFABRRRQAUUUUAFFFFABRRRQAVetv9Qv4/wA6o1etv9Qv4/zpMEUaKKKYEN1dQ2Vu09wxVAQOFLEknAAA5JJ7Cqy61p7TQw+eVeZdyho2XHXAbI+U/K3BweDSa1p76jZJFHy0UyTBC5QPtOdu4cjPrWOvhzUZAkNxcRvHKI2mlMhZ0KBwFGR8wwyjJI6GlqPQ1f8AhI9K+y/aftJ8vft/1Tbvu7s7cZxt5z0xzWkCCAQQQRkEd65b/hH9VMfn/wCi/aTF9n8vzDs2eT5e/OOuecY9s11FshtYIokYnykCBvXAxTEOoqT7TN/z0NH2mb/noaQaEdFSfaZv+eho+0zf89DQGhHRUn2mb/noaPtM3/PQ0BoR0VJ9pm/56Gj7TN/z0NAaEdFSfaZv+eho+0zf89DQGhHRUn2mb/noaPtM3/PQ0BoR0VJ9pm/56Gj7TN/z0NAaEdFSfaZv+eho+0zf89DQGhHRUn2mb/noaPtM3/PQ0BoR0VJ9pm/56Gj7TN/z0NAaEdFSfaZv+eho+0zf89DQGhHRUn2mb/noaPtM3/PQ0BoR0VJ9pm/56Gj7TN/z0NAaEdFSfaZv+eho+0zf89DQGhHRUn2mb/noaPtM3/PQ0BoR0VJ9pm/56Gj7TN/z0NAaEdFSfaZv+eho+0zf89DQGhHRUn2mb/noaPtM3/PQ0BoR0VJ9pm/56Gj7TN/z0NAaEdFSfaZv+eho+0zf89DQGhHRUn2mb/noaPtM3/PQ0BoR0VJ9pm/56Gj7TN/z0NAaEdFSfaZv+eho+0zf89DQGhHRUn2mb/noaPtM3/PQ0BoR0VJ9pm/56Gj7TN/z0NAaEdFSfaZv+eho+0zf89DQGhHRUn2mb/noaPtM3/PQ0BoR0VJ9pm/56Gj7TN/z0NAaEdFSfaZv+eho+0zf89DQGhHRUn2mb/noaPtM3/PQ0BoR0VJ9pm/56Gj7TN/z0NAaEdFSfaZv+eho+0zf89DQGhHRUn2mb/noaPtM3/PQ0BoR0VJ9pm/56Gj7TN/z0NAaEdFSfaZv+eho+0zf89DQGhHRUn2mb/noaPtM3/PQ0BoR0VJ9pm/56Gj7TN/z0NAaEdFSfaZv+eho+0zf89DQGhlarALyW1tG+7J5h6fxBeP503w+7Sac7uMOZ33D34q08kja5CdxO22Y/wC6Sw/LNW0leJdsZCLnOFAAqr6WJSV7lGb93q1q/aVHjOO+PmGfyP51cqK+S4uki8uYJJDKJELrkZGeuPrS2V/czpIsrDzIZDGxUcMRjkenWl0H1JKozfv9Yt4uCtuhmb6nhf6mtP7RN/z0NZ+lyySm5vtxBuZfl/3F4X+tCB9i3Uc8KXEEkEmdkilWwcHFWPtM3/PQ0faZv+eho1HoUrm2VtLltUBIEJVRnngcc/gKktZvtFpDNnO9AxIGOcc1Z+0Snq5I71S0maSKza3DEfZ5XjwOgAPAH4EUdBaXLNVpbwR6hBaFM+cjMGz0xV37RN/z0NZV1cM3iaw/eZdYZPwz/wDqoQPQ0aKk+0zf89DR9pm/56GkPQjoqT7TN/z0NH2mb/noaA0KV9PJDCqwgGWZxEhJ4UnufpTNKaRrACWRpWSR03t1IDEDNP1GeSSaxj3kt9pDgeygk0aVNLFDPCHP7q4kBPrk7v61XQn7RZoqT7TN/wA9DR9pm/56GpK0I6Kk+0zf89DR9pm/56GgNCOipPtM3/PQ0faZv+ehoDQjoqT7TN/z0NH2mb/noaA0I6Kk+0zf89DR9pm/56GgNCOipPtM3/PQ0faZv+ehoDQjoqT7TN/z0NH2mb/noaA0I6Kk+0zf89DR9pm/56GgNCOipPtM3/PQ0faZv+ehoDQjoqT7TN/z0NH2mb/noaA0I6Kk+0zf89DR9pm/56GgNCOipPtM3/PQ0faZv+ehoDQjoqT7TN/z0NH2mb/noaA0I6Kk+0zf89DR9pm/56GgNCOipPtM3/PQ0faZv+ehoDQjoqT7TN/z0NH2mb/noaA0I6Kk+0zf89DR9pm/56GgNCOipPtM3/PQ0faZv+ehoDQjoqT7TN/z0NH2mb/noaA0I6Kk+0zf89DR9pm/56GgNCOr1t/qF/H+dUSSxJPJPWr1t/qF/H+dAIo0UUUwCiiigAooooAKKKKACiiigAooooAKKKKACiiigAooooAKKKKACiiigAooooAKKKKACiiigAooooAKKKKACiiigAooooAKKKKACiiigAooooAKKKKACiiigAooooAKKKKACiiigAooooAKKKKACiiigAooooAKKKKACiiigAooooAKKKKACiiigAooooAKKKKACiiigAooooAKKKKACoLqR0iCxsBLKwRCRnBPU/gMmp6pv8+tQAc+XbuW9skAfyNCEyOxivFvp5btV/1axrIp4kwSc47da0KKKGCVgqnY/LdX8XXE+/P+8oOKuVTt/k1a8TrvSOTPpwVx+lNCe6LTv5cbyYztUtj1wKraWmzS7YZzmMN+fP8AWnak7R6ZcspwwibB98VNCixwRxqu1VQAD04o6B1H0UUUigrPjmjs7nUTK22Nds3HoRgn6kitCsq/s5bnVYUCN9llQfaSOjBTkAmmiZGlDKs8KTR5KSKGXIxwaybn5PFFtJ1/dqmP97dz+lXNIJFkYSQTBI8XBzwDx+lU5+dayeSLmFQfQbGOPzprclu6Rs0UUVJoFFFFAFO6+bUrBRyVMjkeg24z+ZFFhxNfKeD9pJx7EDBok+bWoMc7Ldy3tkjH8jRaf8hLUP8Aej/9Ap9COpcooopFhRRRQAUUUUAFFFFABRRRQAUUUUAFFFFABRRRQAUUUUAFFFFABRRRQAUUUUAFFFFABRRRQAUUUUAFFFFABRRRQAUUUUAFFFFABRRRQAVetv8AUL+P86o1etv9Qv4/zpMEUaKKhury1soxJd3EcCMwUNI2ASegpgTUUyKWOaNZYnWSNhlWU5Bp9ABRRRQAUUUUAFFFFABRRRQAUUUUAFFFFABRRRQAUUUUAFFFFABRRRQAUUUUAFFFFABRRRQAUUUUAFFFFABRRRQAUUUUAFFFFABRRRQAUUUUAFFFFABRRRQAUUUUAFFFFABRRRQAUUUUAFFFFABRRRQAUUUUAFFFFABRRRQAUUUUAFFFFABRRRQAUUUUAFFFFABRRRQAUUUDk4oAYJojKYhKhkXqm4ZH4VWi+fWblunlwog985OaoNard6feXvlBp2lZ4mIywCnAAx0+7irmmSrcvd3SkMsso2uO4CjgewOaqxF7sv0UUVJYVTHya2e/m2wJ9trf/ZVcqpOvlahBdE/IVMJ9iTkH8xj8aaJY3Vvms1iHWWaNFPodwP8ASrp5JqndfvNSsov7peU/gMD+f6Vco6AtwooopFBRRRQBURRa38gOdl0dwOOjgYI/EDI+hqjL/wAfE10eTHfxqR6gAKP/AEKrurD/AIl0kg4MJWUHuNpzx74zVKQ77S4mX7kuoKV9eGUfzBqkZs2aKD1NFSaBRRRQBTTnW5SOQLZQfY7jRD8usXSjo0Ubn68j+QFFt/yFb702xfyNA+TW2zz5tsMe21uf/QqZBcooopFhRRRQAUUUUAFFFFABRRRQAUUUUAFFFFABRRRQAUUUUAFFFFABRRRQAUUUUAFFFFABRRRQAUUUUAFFFFABRRRQAUUUUAFFFFABRRRQAVetv9Qv4/zqjV62/wBQv4/zpMEUaxvE9rDdWMImKJtk+V2aRSvHOCgJ/OtmsLxHp1zcLHNp9oss5JEjnccKBwNoZRyeM0Ma3Lug/wDIEtf9HNvlSfLJYn7x5y3Jz159a0MH06VgvJqNt4SRRazrdOrIwhTLRKSfn2ljzjHGTgmseO5vHewaNrpb021v9mjcsCy+W/mEjoeQMk+1DYkjt8Hpg5pK4Ez/AOgH99c/YCM7/MfP2nyM4z1zv7dN1d3as4t4WuFzJ5a+YDx82Of1pgPoqTzI/wDngP8Avo0eZH/zwH/fRpAR0VJ5kf8AzwH/AH0aPMj/AOeA/wC+jQBHRUnmR/8APAf99GjzI/8AngP++jQBHRUnmR/88B/30aPMj/54D/vo0AR0VJ5kf/PAf99GjzI/+eA/76NAEdFSeZH/AM8B/wB9GjzI/wDngP8Avo0AR0VJ5kf/ADwH/fRo8yP/AJ4D/vo0AR0VJ5kf/PAf99GjzI/+eA/76NAEdFSeZH/zwH/fRo8yP/ngP++jQBHRUnmR/wDPAf8AfRo8yP8A54D/AL6NAEdFSeZH/wA8B/30aPMj/wCeA/76NAEdFSeZH/zwH/fRo8yP/ngP++jQBHRUnmR/88B/30aPMj/54D/vo0AR0VJ5kf8AzwH/AH0aPMj/AOeA/wC+jQBHRUnmR/8APAf99GjzI/8AngP++jQBHRUnmR/88B/30aPMj/54D/vo0AR0VJ5kf/PAf99GjzI/+eA/76NAEdFSeZH/AM8B/wB9GjzI/wDngP8Avo0AR0VJ5kf/ADwH/fRo8yP/AJ4D/vo0AR0VJ5kf/PAf99GjzI/+eA/76NAEdFSeZH/zwH/fRo8yP/ngP++jQBHRUnmR/wDPAf8AfRo8yP8A54D/AL6NAEdFSeZH/wA8B/30aPMj/wCeA/76NAEdFSeZH/zwH/fRo8yP/ngP++jQBHRUnmR/88B/30aPMj/54D/vo0AR0VJ5kf8AzwH/AH0aPMj/AOeA/wC+jQBHRUnmR/8APAf99GjzI/8AngP++jQBHRUnmR/88B/30aPMj/54D/vo0AR0VJ5kf/PAf99GjzI/+eA/76NAEdFSeZH/AM8B/wB9GjzI/wDngP8Avo0AR0VJ5kf/ADwH/fRo8yP/AJ4D/vo0AR0VJ5kf/PAf99GjzI/+eA/76NAEdFSeZH/zwH/fRo8yP/ngP++jQBHRUnmR/wDPAf8AfRo8yP8A54D/AL6NAEdFSeZH/wA8B/30aPMj/wCeA/76NAEdFSeZH/zwH/fRo8yP/ngP++jQBHUN3KYLOeUYykbEZ9cVa8yP/ngP++jVLWHjfTmiEYXzpEjzuJIyw5prcT2FsIFg06CAjIEYDZGM5HP86Zpll/Z9ktvvD4ZmyBgcnpWgZI8/6gf99Gk8yP8A54D/AL6NF2FkR0VJ5kf/ADwH/fRo8yP/AJ4D/vo0hkdMliWeF4n+64wan8yP/ngP++jR5kf/ADwH/fRphYy7GO7N7LLdrho4xCsg4EoySWx+X61oVJ5kf/PAf99GjzI/+eA/76NDYkrEdFSeZH/zwH/fRo8yP/ngP++jSGR0VJ5kf/PAf99GjzI/+eA/76NAEMieZE8Z4DqV/MVhWilPCqs2f3UvmHPVgH/rXR+ZH/zwH/fRqlrLxnR7oCEKdnXcfUVSfQmS6lk9aKqX2rLbMyw2YmEW3zn8wgJk4x7n2rQMkYP+oH/fRpD0IqKk8yP/AJ4D/vo0vmR/88B/30aQzOsP+PnUP+vj/wBlWh/+Q5D/ANez/wDoQp+lPGIJ8xA5uZSPmP8AeounT+1tPIiAH73I3Hn5RVdSehZoqTzI/wDngP8Avo0eZH/zwH/fRqSiOipPMj/54D/vo0eZH/zwH/fRoAjoqTzI/wDngP8Avo0eZH/zwH/fRoAjoqTzI/8AngP++jR5kf8AzwH/AH0aAI6Kk8yP/ngP++jR5kf/ADwH/fRoAjoqTzI/+eA/76NHmR/88B/30aAI6Kk8yP8A54D/AL6NHmR/88B/30aAI6Kk8yP/AJ4D/vo0eZH/AM8B/wB9GgCOipPMj/54D/vo0eZH/wA8B/30aAI6Kk8yP/ngP++jR5kf/PAf99GgCOipPMj/AOeA/wC+jR5kf/PAf99GgCOipPMj/wCeA/76NHmR/wDPAf8AfRoAjoqTzI/+eA/76NHmR/8APAf99GgCOipPMj/54D/vo0eZH/zwH/fRoAjoqTzI/wDngP8Avo0eZH/zwH/fRoAjoqTzI/8AngP++jR5kf8AzwH/AH0aAI6Kk8yP/ngP++jR5kf/ADwH/fRoAjoqTzI/+eA/76NHmR/88B/30aAI6Kk8yP8A54D/AL6NHmR/88B/30aAI6Kk8yP/AJ4D/vo0eZH/AM8B/wB9GgCOr1t/qF/H+dUSQSSBgelXrb/UL+P86ARRqlqentqMMcaz+QVfd5qg714/hIIwfz4q7RTAjt4Tb28cJmkmKLjzJDlm9zUmT60UUCDJ9TRRRQMKKKKACiiigAooooAKKKKACiiigAooooAKKKKACiiigAooooAKKKKACiiigAooooAKKKKACiiigAooooAKKKKACiiigAooooAKKKKACiiigAooooAKKKKACiiigAooooAKKKKACiiigAooooAKKKKACiiigAooooAKKKKACiiigAooooAKKKKACiiigAooooAKp3nz31jF6SNJn02qf8auVTPza4u3/lnbHd7bmGP5GmiWXKKKKRQUUUUAFFFFABRRRQAUUUUAFFFFABUF9btdWM1ujBWkXALdBzU9FAijeW4i0W4j5dhGzlscs/XP51cjbfEj5zuUHPrxQ6l0ZR1ZSB+VVtKYNpVtj+GMKfqOD/Kn0F1LdA4NV7y9isY0kmDlWfb8ozj3+nFRXuoQQI6MHYFPmdFyqZHGT70WHdBo/wDyCoPof/QjS3nyXthL1/etHj/eU8/pUmnArptqrAgiFQQe3FR3/wDr7D/r5H/oLUdRdC5RRRSKCiiigAooooAKKKKACiiigAooooAKKKKACiiigAooooAKKKKACiiigAooooAKKKKACiiigAooooAKKKKACiiigAooooAKKKKACiiigAq9bf6hfx/nVGr1t/qF/H+dJgijRRRTAKKKKACiiigAooooAKKKKACiiigAooooAKKKKACiiigAooooAKKKKACiiigAooooAKKKKACiiigAooooAKKKKACiiigAooooAKKKKACiiigAooooAKKKKACiiigAooooAKKKKACiiigAooooAKKKKACiiigAooooAKKKKACiiigAooooAKKKKACiiigAooooAKKKKACiiigAqnB8+r3b9NkccePXq2f1q5VOx+a5vpD97z9n4Kox/OmS90XKKKKRQUUUUAFFFFABRRRQAUUUUAFFFFABRRRQADg1R0rKW8ts2c28zJyO2cj9DV6qMP7rWbmPjE0SygZ7j5Tx+VNEvcW+Aku7GEgEGVnOechVPH45qxb20NpF5cEYRM5wKgl+bWbZT0SF3X65A/kauUMFuFUtV/49Yv8Ar4i/9CFXapatxYGTtFIkhHqAw4oW4PYunqaKD1opFBRRRQAUUUUAFFFFABRRRQAUUUUAFFFFABRRRQAUUUUAFFFFABRRRQAUUUUAFFFFABRRRQAUUUUAFFFFABRRRQAUUUUAFFFFABRRRQAVetv9Qv4/zqjV62/1C/j/ADpMEUaKKKYBRVXUpZILF5Y7mK1CEF5pV3BFzyQO59B61gLr+qwhJbqONRCI1mhMeGk3hyG6/Lwq8e5pXCx1NFcmde1byzB51v5/lfafO8n5dvk+Zs259eM+ldTayLcQQzNlBJGr4xnGRnFMB9FSbIf+ezf98UbIf+ezf98UgsR0VJsh/wCezf8AfFGyH/ns3/fFAWI6Kk2Q/wDPZv8AvijZD/z2b/vigLEdFSbIf+ezf98UbIf+ezf98UBYjoqTZD/z2b/vijZD/wA9m/74oCxHRUmyH/ns3/fFGyH/AJ7N/wB8UBYjoqTZD/z2b/vijZD/AM9m/wC+KAsR0VJsh/57N/3xRsh/57N/3xQFiOipNkP/AD2b/vijZD/z2b/vigLEdFSbIf8Ans3/AHxRsh/57N/3xQFiOipNkP8Az2b/AL4o2Q/89m/74oCxHRUmyH/ns3/fFGyH/ns3/fFAWI6Kk2Q/89m/74o2Q/8APZv++KAsR0VJsh/57N/3xRsh/wCezf8AfFAWI6Kk2Q/89m/74o2Q/wDPZv8AvigLEdFSbIf+ezf98UbIf+ezf98UBYjoqTZD/wA9m/74o2Q/89m/74oCxHRUmyH/AJ7N/wB8UbIf+ezf98UBYjoqTZD/AM9m/wC+KNkP/PZv++KAsR0VJsh/57N/3xRsh/57N/3xQFiOipNkP/PZv++KNkP/AD2b/vigLEdFSbIf+ezf98UbIf8Ans3/AHxQFiOipNkP/PZv++KNkP8Az2b/AL4oCxHRUmyH/ns3/fFGyH/ns3/fFAWI6Kk2Q/8APZv++KNkP/PZv++KAsR0VJsh/wCezf8AfFGyH/ns3/fFAWI6Kk2Q/wDPZv8AvijZD/z2b/vigLEdFSbIf+ezf98UbIf+ezf98UBYjoqTZD/z2b/vijZD/wA9m/74oCxHRUmyH/ns3/fFGyH/AJ7N/wB8UBYjoqTZD/z2b/vijZD/AM9m/wC+KAsR0VJsh/57N/3xRsh/57N/3xQFiOipNkP/AD2b/vijZD/z2b/vigLEdFSbIf8Ans3/AHxRsh/57N/3xQFiOipNkP8Az2b/AL4o2Q/89m/74oCxHRUmyH/ns3/fFGyH/ns3/fFAWIx1qlpPNj5nXzZHcHuQWOM/hV25aGC1mlExBRCw3JxnFR6fBHDp1tGZHUiNcgp0OMn9afQVtSSipNkP/PZv++KNkP8Az2b/AL4pDsR0VJsh/wCezf8AfFGyH/ns3/fFAWI6Kk2Q/wDPZv8AvijZD/z2b/vigLEdFSbIf+ezf98VSuNRsLXU7TTpZnE94rNF8nB29cnNMCzRUmyH/ns3/fFGyH/ns3/fFILEdFSbIf8Ans3/AHxRsh/57N/3xQFiOipNkP8Az2b/AL4o2Q/89m/74oCxHVO+ikWSK9gUvJACGjA++hxkD34zWhsh/wCezf8AfFGyH/ns3/fFO4NXMqzuI7zVJpotzIsCr8ykbTuORz0PStGpdsP/AD2b/vik2Q/89m/74obElYjqlrH/ACCbj/dH8xWjsh/57N/3xVbUkh/su6xISfJfAKexoT1BrQlPWii2WI2sJaZsmNc/L7VJsh/57N/3xQMjoqTZD/z2b/vijZD/AM9m/wC+KQWI6Kk2Q/8APZv++KNkP/PZv++KAsR0VJsh/wCezf8AfFGyH/ns3/fFAWI6Kk2Q/wDPZv8AvijZD/z2b/vigLEdFSbIf+ezf98UbIf+ezf98UBYjoqTZD/z2b/vijZD/wA9m/74oCxHRUmyH/ns3/fFGyH/AJ7N/wB8UBYjoqTZD/z2b/vijZD/AM9m/wC+KAsR0VJsh/57N/3xRsh/57N/3xQFiOipNkP/AD2b/vijZD/z2b/vigLEdFSbIf8Ans3/AHxRsh/57N/3xQFiOipNkP8Az2b/AL4o2Q/89m/74oCxHRUmyH/ns3/fFGyH/ns3/fFAWI6Kk2Q/89m/74o2Q/8APZv++KAsR0VJsh/57N/3xRsh/wCezf8AfFAWI6Kk2Q/89m/74o2Q/wDPZv8AvigLEdFSbIf+ezf98UbIf+ezf98UBYjoqTZD/wA9m/74o2Q/89m/74oCxHRUmyH/AJ7N/wB8UbIf+ezf98UBYjq9bf6hfx/nVE4BODkdjV62/wBQv4/zoBFGiiimBXvbC21GAQXcXmRhw4G9lww5ByCDxUY0iwFxFcfZw00K7Ud3Zjjnrk89Tyc4zVyigDO/4R/Sfsv2X7Cnk79+3c3XGOuc4xxjpjitHoMAYA6AUUUAFFFFABRRRQAUUUUAFFFFABRRRQAUUUUAFFFFABRRRQAUUUUAFFFFABRRRQAUUUUAFFFFABRRRQAUUUUAFFFFABRRRQAUUUUAFFFFABRRRQAUUUUAFFFFABRRRQAUUUUAFFFFABRRRQAUUUUAFFFFABRRRQAUUUUAFFFFABRRRQAUUUUAFFFFABRRRQAUUUUAU9WP/EsmT/nptj+m4gZ/WrmMcenFU7/5p7GLpuuN2f8AdBNXKfQnqFFFFIoKKKKACiiigArkNTs7jVdV1XUrRSbnSTFHZgAZaRPncde4bHvx6V1zOsatI7bUQFmPoByTWR4UiePQYriQAS3kj3T4GOXYkfhjGKpO2pnJczSNSCeO5t47iFg0cqh1I7g1Jis2x/0HUJ9NPEUmbi2/3SfnT8GOfo1YmuajdLrj39tIfsmh+WLlATiUyH5844+VcH2otdjcrK7OtoqvaahY34c2V5BdBPvGGQNjPTOOlWKkoKKKKBhRRRQAUUUUAFRXcTT2c8KY3SRsoz6kVLRQIzotSCW6xfZLn7QihfK8s8kD+90x705Lu9h+W7sXc9Q9sNy/QgnINX80U7oVn3M86hdRDz7ixKWxPUNl0Hqy/wCHSr6srqHRgysMgg5BFLVF7OKyH2izhEZU5kRP4178eo6ijRhqi9RSKyuiupyrDII7ilpDCiiqWrc6bJH3mKxj23MBmhA9EXaKrWrNGzWkjEvFyrE/fTsfqOhqzQAUUUUDCiiigAooooAKKKKACiiigAooooAKKKKACiiigAooooAKKKKACiiigAooooAKKKKACiiigAooooAKvW3+oX8f51Rq9bf6hfx/nSYIo0UUUwCiiigAooooAKKKKACiiigAooooAKKKKACiiigAooooAKKKKACiiigAooooAKKKKACiiigAooooAKKKKACiiigAooooAKKKKACiiigAooooAKKKKACiiigAooooAKKKKACiiigAooooAKKKKACiiigAooooAKKKKACiiigAooooAKKKKACiiigAooooAKKKKACiiigAooooApv8+tRD/nlbsxz33EAY/I1O1xClylszgSyKWRfUDrUFr+81G9l/ulIhntgZP4c1Ukha91W8ljI820SNIDno/wB4/n0NaRinuYTm4pcq1b/r8DXoqO3nW5gWZAQG6qRyp7g+4PFOaSNXWNpFV3+6pYAt9BUWd7GqaauOoqK4uYLSLzbiVYkzjcx71WnkF9cfYY/miUB7hweMdQn1Pf2+tNRb9CZTUdOvYuJIkg3RurjplWBolkjhieWVwkaKWZmOAoHUmqM0cOmOt3DCI4MbZ1iTt2bA9D+hrCvvEDaxol/bxxG2mlukso1L8lZCMMfqucgdBT5Oq2J9pbSW5r67fp/wi13d2c6uJodkMsZDKS52qc+mTWjbW6WlrDaxqFSGNYwoOcYGKyo/CthDMuJrtrWN98VmZv3KNkH7o6jIzg5FbVS7dC1e92VNQ0+C/iQTSTQmJtyTQymN04wcN6EdaZpmm2dhZvBasZ45ZGkkeVxIXZuuT3qK9RdQ1OGxYb4IV86cZ4bPCg+vc04wrpdwbiELHZyECaNVAEZ6Bx7ev51XLpa+pl7T3m7aLS/9dCLU/J0iSHVo7cJDEDHdCGPny2xhsDrtIB+hNakckc0aSxOskbgMrqchgehBqgb+8yJ47Ez2kgIQRn94fRiDxtP+etZEEd9o8skml2sr2yktcaS0ikxg8h4T6dfl/KhxdhqrG+n5HUUVgy+I7m4UnSNHubry08yVrhTbhR/dXcMs3HbitexvbfUbOK8tJBJDKMqw7eoPoR0IqWmjVST2J6Ko2upi51O6s/LwIfuvz8+OG/IkVepyi4uzFCcZq8QoooqSwooooAKKKKACiiigCgs72Ja3a1nkiBJjeJNwwTnBHbGasW13Fdh/L3KyHDo67WU+4qeql5bOZEu7ZR9pj4wTgSL3U/09Ke5OqFug08qWqSPGCpeR0bDAdAB9T/Kqn+lG/tbO43yiKQyi4243KAcZ7ZycH8KvW0ToHllwZpTl8HIUdlH0H9anovYLXIbm2+0BCsrwyIcrImMj1HPY1VFxeWjPBLbz3hBzHKigbl9GPTI/WtCii47EdvOl1bxzx52yLuGe1SVmx2N3G80MUnk24cyQlW5JP8JH90HP1zTzqcijc1hcCNMCV8fdPfA6sPcUW7Cv3L9FMiljmiWWJg6OMqw7in0hhRRRQMKKrXd9DZbfMDsWycIuSqjqx9qsI6yIrowZWGQwOQRQK4tFFFAwooooAKKKKACiiigAooooAKKKKACiiigAooooAKKKKACiiigAooooAKvW3+oX8f51Rq9bf6hfx/nSYIo0UUUwCiq1/eCxtxL5TTO8ixRxqQC7scAZPA+tLYXiahYxXcasiyD7rdVIOCD9CDQBYoopQpY4UZNACUVS/trS/wDoIQf99Uf21pf/AEEIP++qrkl2Znzx7r7y7RVL+2tL/wCghB/31R/bWl/9BCD/AL6o5JdmP2ke6+9F2iqX9taX/wBBCD/vqj+2tL/6CEH/AH1RyS7MOePdfei7RVL+2tL/AOghB/31R/bWl/8AQQg/76o5JdmHPHuvvRdoql/bWl/9BCD/AL6o/trS/wDoIQf99UckuzHzruvvRdoql/bWl/8AQQg/76o/trS/+ghB/wB9UckuzF7SPdfei7RVL+2tL/6CEH/fVH9taX/0EIP++qOSXZh7SPdfei7RVL+2tL/6CEH/AH1R/bWl/wDQQg/76o5JdmHtI9196LtFUv7a0v8A6CEH/fVH9taX/wBBCD/vqjkl2Ye0j3X3ou0VS/trS/8AoIQf99Uf21pf/QQg/wC+qOSXZh7SPdfei7RVL+2tL/6CEH/fVH9taX/0EIP++qOSXZh7SPdfei7RVL+2tL/6CEH/AH1R/bWl/wDQQg/76o5JdmHtI9196LtFUv7a0v8A6CEH/fVH9taX/wBBCD/vqjkl2Ye0j3X3ou0VS/trS/8AoIQf99Uf21pf/QQg/wC+qOSXZh7SPdfei7RVL+2tL/6CEH/fVH9taX/0EIP++qOSXZi9pHuvvLtFUv7a0v8A6CEH/fVH9taX/wBBCD/vqjkl2Y/aR7r70XaKpf21pf8A0EIP++qP7a0v/oIQf99UckuzD2ke6+9F2iqX9taX/wBBCD/vqj+2tL/6CEH/AH1RyS7MPaR7r70XaKzzrulCQR/boskZzk4/On/21pf/AEEIP++qOSXZi9pHuvvLtFUv7a0v/oIQf99Uf21pf/QQg/76o5JdmP2ke6+9F2iqX9taX/0EIP8Avqj+2tL/AOghB/31RyS7MPaR7r70XaKpf21pf/QQg/76o/trS/8AoIQf99UckuzDnj3X3ou0VS/trS/+ghB/31R/bWl/9BCD/vqjkl2Yc8e6+9F2iqX9taX/ANBCD/vqj+2tL/6CEH/fVHJLsx88e6+9F2iqX9taX/0EIP8Avqj+2tL/AOghB/31RyS7MXtI9196LtFUv7a0v/oIQf8AfVH9taX/ANBCD/vqjkl2Ye0j3X3ou0VS/trS/wDoIQf99Uf21pf/AEEIP++qOSXZh7SPdfei7RVL+2tL/wCghB/31R/bWl/9BCD/AL6o5JdmHtI9196LtFUv7a0v/oIQf99Uf21pf/QQg/76o5JdmHtI9196LtFUv7a0v/oIQf8AfVH9taX/ANBCD/vqjkl2Ye0j3X3ou0VS/trS/wDoIQf99Uf21pf/AEEIP++qOSXZh7SPdfei7RVL+2tL/wCghB/31R/bWl/9BCD/AL6o5JdmHPHuvvRdoql/bWl/9BCD/vqj+2tL/wCghB/31RyS7MOePdfei7RVL+2tL/6CEH/fVH9taX/0EIP++qOSXZj549196LtFUv7a0v8A6CEH/fVH9taX/wBBCD/vqjkl2YuePdfei7RkDknAHU1QfXdKjUsb+Ij0U5P5Vm3viexkkW2hvVgRwQ07ISfoo9eaapyfRkupFdV96NGwlWDSmu5QQHZ5iB7twB9eMfWpLSNbONmuZEjmuZDK6s4ABPYfQACsD7Tqmo3CwaXpFyYLbC27zjy4VYcb3zy2P7o9K1bfwjakvPqkA1S8lOZLi4jB/BV6KB6Cm0oq1yINzfMlotv8ya7juLK6+02piPncSW8sgjDnsyk9+mfWq7Wlk85j1ie2N/dfcQPtZAOgTPPHXNSDwZoo3btJWTcu394zPj6ZJwfcc0ReDtKjt5IX0/7R5pBaScl5DjoN55GO2OlJSstGDp3eq07dCC7n/shBNq9wLkIPKtokT97MzcY2927enWmWieII4f8ARdN0qwidiwikdy6em7aME4960bLwxp2nXP2m104JOBgSMWdlHsWJx+FaPky/882/KhzuVGlb+v1MNtI1O7BTUda3wtxJBbWyxrIvcEklhnocHpVW/wBCuf7btbzToYEgQ+bIGbaokUMBwOTkMeldN5Mv/PNvyo8iX+435Uo1HHYcqMZbmYTrWDhLAH13P/hTZLG/ulEV3fRmBj+8WGIozD0znpWp5Ev9w/lS+RL/AHG/Knz22sL2KfxNv5lW3tLa0UrbQRwg9Qi4zUxGQQRkHqKk8ib/AJ5t+VH2eb/nm35VDd3dmqikrJEdVruxiuyjs8sUsedkkT7WGf51d+zzf882/Kj7PN/zzb8qak07oUoKSs0ZXla3tCfbbbCfdkMRLP8AUZwPwrGubXWtPvJb7T4EtTOD9oSJfPjkfs4TIKk9CefcV132eb/nm35UeRN/zzb8qtVF1SMnQfSTX4/mcbb6h/Zktm1/Y3Vm8BcTzPHujkR8ncGXvnHHUV0thqFnqkJmsbhLhFO1tnVT6EdQfrVqayNxC0M0BkjbqpFYFx4Itbm4Fw0l4sgwAUbacA5GSOTj1PNNyjPWTsyIwnRdoq6/pG6SFGWIUepOKpSarH57Q2sEt48YJk8kDCfiTyfpVeTwfFcW/k3VxqU67s5a4OaYngfT49rIuoCVPuTC7cOg9Ac8CkuRdblv2stlb8/8i6NXsPs6Ttcoqv0U/ez3G3rkVPbXUF3F5tvKsqZwSp6H0PpWY3grT2XdtvPtAbet19pcyq3qGz/SoB4W1pboXC62Q4GN4swGcdt5DAMfwp+49nYV6y3Sfob4BPQZpFZWGVYMBxkHNY0nha9vgq6pqlzcIjBkWJPKGffBOarN4P1C0YTaTq88cw/hnjXYR/wED9c5pcsP5hudXpH8UdHRXOHTfHFuwZLqzu8gjaSUC+/IOatpP4ot0UXOixXDEdbecDB75zijkXSS/r1D2r+1Fr5X/I2KKoQ3WrPGDLoNwj55AmjP9aE1S6Mrxy6LqMZTjIjDA/Qg4pcn9XQ/bR8/uf8AkX6Kw59T1+a9EGn6BLsH3pbn5F+vX+WajNz4waXYdDEYDYDpJGyt9ctkD6DNP2fdr7xe27Rb+R0FFYNxP4wjk8saKjLjPmQSI34YZhVf+09ahkQrp2rTS5Alhltl8vPfa6ngD15o5F3QOs19lnTUZrLudUv7YlDoN877cjYA6/mKzl1LVJRuubTWYD122+ngBfqSSTRyd2v69AdVdE38rfmazRXNhI8lsnn2ztueAH5kPcp7e1SRajBLMkJSeJ5PuebEVDH0BPesX+1onH+j6hrdxIfuxx2BDN9NyAfrUd1qNw8Pl3rajbJkGMz6W2WI/wBpCSD78Uci7/mT7Vr7L/D/ADN9dRt2ufIJZc52SMMI5HUA+1LfXRtbF549rvwIx1DMTgfrXPNriTQLbymMQjGANLuH249AVxTNPvEa4Idrg2lvJ5oVbORQ5wcbQR8vuOlPkfQXtl108zpLSyW2LSO7TXDgCSV+p9h6D2qD7Dcwu8VlMkFtIdx4JaM99o6c/pWXJ40hUsq6TqLEdD5D4P6U9PEWpvbmRPDt7Kd3yFI2CuvryM0ezn5feh+2h0v9z/yNEy39ipMyreQLyZE+WRR7r3/CnS6nFKqR2EsU88pwoByFHdmx0AqjF4kuRF5l7oOo2wB+ZvKLBfSo5vFllbgGHTb993XZasMfpS5JdvxQ/axXX8GaUOpRx7oL6WOC4jOG3fKrjsy57GrD3dtHF5zXEQjxndvGK59vGds2N2jai2OmbZj/AOy1ZbUdOhSK7l0S5iMvzKxs+ckZo5Jf1YarR7/gzbjkjmQPE6up6FTkUO6RozyMERRksxwBXPDUNMnn3Wkd9ZTkE+YlqwU/7wxg1OLtLiRG1CSSRIzlYYrSUKW9WyOfp0o5X2K9qu6Nh7iCOETPNGsZ6OWAB/GliljnTfDIsif3kORWTG+kRTeaIbliCSitbyFUz12jHFRTXWlm+ASC+heRSWlghkQH6gDn8qOR9mL2i7r7zePAJPAHUmmRyxzR+ZFIsif3lORWLNLo6RmSaG9uCOu+KVifbkYqu2oaJPMP9Dv0DkBlSB1RvTIFHJLsHtV3R0tFYEl1aWkZaG71RI8gCNYGbH03LTlvAQksepX4YjpLZswx7gKKOSXYftF3X3m7RWJ/aVwjbluzKD1WSwkUD6YFL/aMx5N66k/wrpzkD8TRyS7B7Rd195tUVh/2pcxNuWc3IPVHs5I8fQgGmT+LILYAXFnNAW4VpflUn8RnFHs59g549WvvN+iua/4TK1/56Wn/AH+b/wCJqwNYuHQTxyq4bBWIWspUj/fx+vSjkl2Dni9mvvN2jpWGLszITcaheozjlIbRgq+wyufxoWeG2JFldXUMTdY3s5JAD6gkcUuWXYfMu6+9G5RWFNqphiLzaq0KDq76eygfiaSw1mOe4WC01Jb2MsoO+Fy657ZUY/OjllbYXOr2uvvN6r1t/qF/H+dUiCpIIwRV22/1C/j/ADrM1RRooopgVdQsvt1ssazGGSORJY5Au7aynIOO49qdp9mun2EVojlxGDl2GCxJyT+ZNWKKACkdtiM5zhQSce1LUNxBHeQPC7vsJwxilKH6ZU5FAC20sd1aw3MaYSaNZFDKMgEZGfzqTav91fyrKj0vS4oIljv7lYuI4tupSbTjgKvzc+mBU39i2/8Az86h/wCB0v8A8VRcnlRf2r/dX8qNq/3V/KqH9i23/PzqH/gdL/8AFUf2Lbf8/Oof+B0v/wAVRcOWJf2r/dX8qNq/3V/KqH9i23/PzqH/AIHS/wDxVH9i23/PzqH/AIHS/wDxVFw5Yl/av91fyo2r/dX8qof2Lbf8/Oof+B0v/wAVR/Ytt/z86h/4HS//ABVFw5Yl/av91fyqGWeKK5t7dky9wXCEKMDau45/Cqp0e1UZa6v1Hqb+Uf8As1Ml0TTxJFJNc3iurERM+oSg5IwQMt1Iouw5Uae1f7q/lRtX+6v5Vn/2Pa5K/ar/ACOSPt8uR/49S/2Lbf8APzqH/gdL/wDFUXDliX9q/wB1fyo2r/dX8qof2Lbf8/Oof+B0v/xVH9i23/PzqH/gdL/8VRcOWJf2r/dX8qNq/wB1fyqh/Ytt/wA/Oof+B0v/AMVR/Ytt/wA/Oof+B0v/AMVRcOWJf2r/AHV/Kjav91fyqh/Ytt/z86h/4HS//FUf2Lbf8/Oof+B0v/xVFw5Yl/av91fyqG2niuhKY48eVM8LZUdVODj2qr/Y9rkr9qv8gZI+3y5/9CqJdH0yATbby6jCuXm/4mMg2sepb5uCfei4+SJq7V/ur+VG1f7q/lWemkWkiB0u751YZDLqEpB+h3Uv9i23/PzqH/gdL/8AFUXYuWJf2r/dX8qNq/3V/KqH9i23/PzqH/gdL/8AFUf2Lbf8/Oof+B0v/wAVRcOWJf2r/dX8qNq/3V/KqH9i23/PzqH/AIHS/wDxVH9i23/PzqH/AIHS/wDxVFw5Yl/av91fyo2r/dX8qof2Lbf8/Oof+B0v/wAVR/Ytt/z86h/4Hy//ABVFw5EWbu4is7czyR5UMi4VRnLMFH6kVNsUfwr+VZc2iafJbkz3V20PDEvqEu3ggg53Y6gGnnS7LzFQ315vcZVf7Rlyw9QN3NFw5YmjtX+6v5UbV/ur+VUP7Ftv+fnUP/A6X/4qj+xbb/n51D/wOl/+KouHLEv7V/ur+VG1f7q/lVD+xbb/AJ+dQ/8AA6X/AOKo/sW2/wCfnUP/AAOl/wDiqLhyxL+1f7q/lRtX+6v5VQ/sW2/5+dQ/8Dpf/iqP7Ftv+fnUP/A6X/4qi4csS/tX+6v5UbV/ur+VUP7Ftv8An51D/wADpf8A4qkOj2oIBur8E9Ab+Xn/AMeouHLEtLPE97LaCP54o0kJ2jGGLAf+gmptq/3V/Kss6Np0c7O13dpM0Y3E6hIGKLn/AGugyfzp0WmWFwpaC/u5lHUx6lIwH5NRcfJE0tq/3V/Kjav91fyqh/Ytt/z86h/4HS//ABVH9i23/PzqH/gdL/8AFUXFyxL+1f7q/lRtX+6v5VQ/sW2/5+dQ/wDA6X/4qj+xbb/n51D/AMDpf/iqLhyxL+1f7q/lRtX+6v5VQ/sW2/5+dQ/8Dpf/AIqj+xbb/n51D/wOl/8AiqLhyxL+1f7q/lSNtVGYoMKCTwKo/wBi23/PzqH/AIHS/wDxVJ/Y1q4I+1X7DoQL+U/h96i4ciLdrNHd2kNzGmEmjWRQyjIBGRn86l2r/dX8qyo9K0uKCJYr65SHiOLbqUm044Cj5vbGKm/sW3/5+dQ/8Dpf/iqLsfJEv7V/ur+VG1f7q/lVD+xbb/n51D/wOl/+Ko/sW2/5+dQ/8Dpf/iqLi5Yl/av91fyo2r/dX8qof2Lbf8/Oof8AgdL/APFUf2Lbf8/Oof8AgdL/APFUXDliX9q/3V/Kjav91fyqh/Ytt/z86h/4HS//ABVH9i23/PzqH/gdL/8AFUXDliX9q/3V/KoWniW9jtDH+8kiaQHaMYUqD/6EKqnR7UYzdX4ycDN/Lyf++qY2iaeLiN3ubwTEFIy2oShiDgkD5uegP4UXHyRNPav91fyo2r/dX8qzk0mzk3eXe3r7TtbbqEpwfQ4bg07+xbb/AJ+dQ/8AA6X/AOKouLliX9q/3V/Kjav91fyqh/Ytt/z86h/4HS//ABVH9i23/PzqH/gdL/8AFUXDliX9q/3V/Kjav91fyqh/Ytt/z86h/wCB0v8A8VR/Ytt/z86h/wCB0v8A8VRcOWJf2r/dX8qNq/3V/KqH9i23/PzqH/gdL/8AFUf2Lbf8/Oof+B0v/wAVRcOWJfCKTjav5VDaXEV7bLcRx4VmZQGUZ+Vip/UGqw0e1yQLq/yvUC/lyP8Ax6ol0XTrSEqLq7giQ8/8TCRQpJzz83GSc/jRcORGptX+6v5UbV/ur+VUP7Ftv+fnUP8AwOl/+Ko/sW2/5+dQ/wDA6X/4qi4csS/tX+6v5UbFPVF/75FUP7Ftv+fnUP8AwOl/+Ko/sW2/5+dQ/wDA6X/4qi4+WJoksepJ/GkyfU1n/wBi23/PzqH/AIHS/wDxVH9i23/PzqH/AIHS/wDxVAzQyfU0ZPqaz/7Ftv8An51D/wADpf8A4qg6NaqCTdX4A5JN/KMf+PUAW7m6W18nfuPnTLCuOzN0z7VLk+prMk0KxkVWlnvWWNhIpa/lwpHRvvU7+xrXIX7Vf5IyB9vlyR/31QBo5PqaMn1NZ/8AYtt/z86h/wCB0v8A8VR/Ytt/z86h/wCB0v8A8VQBoZPqaMn1NZ/9i23/AD86h/4HS/8AxVH9i23/AD86h/4HS/8AxVAGhk+poyfU1n/2Lbf8/Oof+B0v/wAVR/Ytt/z86h/4HS//ABVAGhk+poyfU1n/ANi23/PzqH/gdL/8VSf2Pa5C/ar/ACeQPt8uT/49QBbiulmubi3XcGtiocnody7hj8DU2T6mswaHYxSSSC4vUeQbnb7fKCwAxk/N2HFKmk2cqCSO8vZEboyahKQfxDUAaWT6mjJ9TWf/AGLbf8/Oof8AgdL/APFUf2Lbf8/Oof8AgdL/APFUAaGT6mjJ9TWf/Ytt/wA/Oof+B0v/AMVR/Ytt/wA/Oof+B0v/AMVQBoZPqaMn1NZ/9i23/PzqH/gdL/8AFUf2Lbf8/Oof+B0v/wAVQBoZPqaiurhbS0muZNxSGNpGC9SAMnH5VU/sW3/5+dQ/8Dpf/iqY+hWVxE0bT30sbgqy/b5SGB4I+9+FAGkrblVhnBGRS5PqazP7LsFKJ9uuwX4jX+0ZPmx2Hzc/hT/7Ftv+fnUP/A6X/wCKoA0Mn1NGT6ms/wDsW2/5+dQ/8Dpf/iqP7Ftv+fnUP/A6X/4qgDQyfU0ZPqaz/wCxbb/n51D/AMDpf/iqP7Ftv+fnUP8AwOl/+KoA0Mn1NGT6ms/+xbb/AJ+dQ/8AA6X/AOKo/sW2/wCfnUP/AAOl/wDiqANDJ9TUTXSpex2h3eZJG8gPbClQf/QhVM6ParjN1fjJwM38vJ/76praFY+akzT3okAKK5vpc4OCQPm74H5UAahdz1Zj+NAZh0Yj6Gs0aNakkC6vyR1Av5eP/HqX+xbb/n51D/wOl/8AiqANLzH/AL7fnRvf+8351m/2Lbf8/Oof+B0v/wAVR/Ytt/z86h/4HS//ABVIDS8x/wC+350mSe5rO/sW2/5+dQ/8Dpf/AIqj+xbb/n51D/wOl/8AiqYGiCw5BI/Gl8x/77fnWb/Ytt/z86h/4HS//FUf2Lbf8/Oof+B0v/xVAGkHkJ++351BZ3gvLcXERdVZmX5uDlWKn9QaqDR7XJAur/I6gX8uR/49UQ0bTbOEj7XdQRITnOoyKFJOefm4yTn8aQGvvf8Avt+dJvb+8351mjRrVgGW6vyCMgi/lIP/AI9S/wBi23/PzqH/AIHS/wDxVArGjvb+8350b3/vN+dZ39i23/PzqH/gdL/8VR/Ytt/z86h/4HS//FUByo0d7/3m/Ol3v/fb86zf7Ftv+fnUP/A6X/4qj+xbb/n51D/wOl/+KoHY0t7/AN5vzpN7/wB5vzrO/sW2/wCfnUP/AAOl/wDiqDo1qASbq/AHJJv5eP8Ax6gnlLlzeC1EJcufOmWFcH+Jjxn2qXe395vzrLk0KxkVWlnvWWNhIpa/lwpHRvvdqX+yrLzfK+23vmY3bP7Rl3Y9cbs4oDkRp72/vN+dIw343gNjpuGaz/7Ftv8An51D/wADpf8A4qj+xbb/AJ+dQ/8AA6X/AOKoDlRe8uP/AJ5p/wB8inhmAABIA6AGs7+xbb/n51D/AMDpf/iqP7Ftv+fnUP8AwOl/+KphyI0d7f3m/Oje395vzrO/sW2/5+dQ/wDA6X/4qj+xbb/n51D/AMDpf/iqQcqNBiWGG+Yeh5pFATO1Queu0YzVD+xbb/n51D/wOl/+Ko/sW2/5+dQ/8Dpf/iqYcqNCr1t/qF/H+dZ8cYiiWNSxCjALsWJ+pPJrQtv9Qv4/zpMpFGiiimAUUUUARXJnW1lNqqNcBD5QdsKW7ZNc5YafrEfh7UbJbVIZJZbg5lmLO+4cMpAxyc9a6iilYLnHy6e02k3cUWk3ELXMubVPsw/djagKt3jDFT8wx0zmuwoopgFFFFABRRRQAUUUUAYPim11G7gt47O1+0QxyxyOom2MWEikcY5AGT/+qoPENnqF3Mpks1n3RSRQfZwX8pyyFXbONvAPzDpXS0UrBcwtGttSi1/Uri/tQn2iOM+as29WIL4VeBgAEf5NbtFFMAooooAKKKKACgdeaKKAOd0231mLXtQupbOFHuI48SyTloztZ8KMDIwpH4/Ws5dKuSZFmtbqBUOLiWK3Ehnbzy4IB++NuOcHGcYrs6KVguVdNNwdNtzdxrFPs+dFUKB6cDpxjjtVqiimIKKKKBhRRRQAVn63FeT6XLBZRiR5flkHm+WdmDnBweT0/GtCik1dAnZnN/ZtQ/4R/S47nT1aC2+ztNapmSUhRhgVxggcHHtVLSdM1Oy1Kzaa1L5EQ+eAMIowjZHmdUZScADrnv27Gin1uHSwUUUUAFFFFABRRRQAVgXttqkniuxu1tFkt4RIkcnnYVAY+Sy46lsD6Ct+igDmzZXj+I0luLIM5mjlM8akxCIRMrJuPPLH7vfOa0tBs/smm+ZJAIbi6dp51ChSGJ4GB6DA/CtKigAooooAKKKKACiiigCO5M620ptVRpwh8tXbClu2T6Vzen6frEWgajZi1SCSWW4OZZizvuHDKQMcnPWuoopWC5wt3pV3NAzwaVPFDI0gig8gZUlIxgr/AABmVjvHIxnIzXdelFFMAooooAKKKKACiiigDB1621K41PTZILQT21tcxyfLNtIbJ3Mwx0A/mag1Oyv7jVoXltFkkcQrDNACyQbZtzEseVyv54xXS0UrBc57w1p81ld3Z8uWO2EUcUYlgETMQWJJGTuOCPm710NFFMAooooAKKKKACkJIBIAJxwCcZNLVTU71tPsWuFh85g6IqF9oJZgo5wcdfSgDJ0O21m2vdSkuLSGOS4mjkeSSYsr/JhtuB24AqrdaS1tLdsunzXNqb/zmiCmRpQYNu7B+9hyPp+Fa412G3NxHqa/ZJrdwGVS0qkFdwYELnGM5yBjFLF4i0ySGSYzmNEnaHLo3zFerDA+7z16DvSsh6lnTIZrfSrOG4OZo4EV+c/MFAPNWqKKbJCiiigYUUUUAFY3iq2vr3Q57WytxOJUcSoJdjMNpwBxzk4yK2aKT1BOzMPV7G71Lw3dW1xbIxNuDFDFIxcuF6N0B57dKn+wbPFEV+sTnfZPHJKSSAdyEL6DoTxWrRT63DpYKKKKACiiigAooooAK59rbVv+Et+2fY4zH9mliilaf5FXKFQQBkEkEn/61dBRQBz2o2Pl6lNfy6bJemTTmjmjhLMJG3qQi56Dqfpmr+gW/kacxZGSSaVpZEMJiCs3UKp5C+nr1rSooAKKKKACiiigAooooAr332r7FKLFVNwRhNzbQPU5wegzWX4dsryDRobG5tVtoA0qurTMZcF2IIIA6g9c5rcopWA5NNLePQ9NsV06VLiF12nyQVCCbOxn6px82eM+prrD1NFFMAooooAKKKKACiiigDB1621K41LTXt7QT21vcxyfLNtIbJyzDHQD+ZqXUrG5uZ9MupIEkuLa8DDynbYqbW5OfwBOOM1s0UrAYXhy11C2u9UfULXynuJUkMgl3iRtgBxwOBjFbtFFMAooooAKKKKACkOQDgZOOAT1paKAOe0S21m2vtSkuLSGOS4likeSScsr/LhtuB24AqvdaQ0JvvLiulia/S4UxwC4MhEQGSGzkbvY4xXU0UrBchtDMbKA3KLHP5a+YidFbHIFTUUUxBRRRQMKKKKACsfxTbX17oc9rZQCcSo4lQS7GZdpwBxzk449K2KKTVwTszD1Wxu9R8NXNrc2qEm2HlQxSMXLhejdAee3SoLS0vofFMkr2+9JZWcytAMJH5ahcSdd2QRt9Pzro6KfW4dLBRRRQAUUUUAFFFFABRRRQAVetv8AUL+P86o1etv9Qv4/zpMEUaKKKYBRRRQAUUUUAFFFFABRRRQAUUUUAFFFFABRRRQAUUUUAFFFFABRRRQAUUUUAFFFFABRRRQAUUUUAFFFFABRRRQAUUUUAFFFFABRRRQAUUUUAFFFFABRRRQAUUUUAFFFFABRRRQAUUUUAFFFFABRRRQAUUUUAFFFFABRRRQAUUUUAFFFFABRRRQAVR1WD7bo9yrSvGUmt2VkxkFXVh1BHWiik9gW5z11p41G2R7i5naS8uJ0mcFRuGDGBjGOByOOpJpdS0W1WxEbF5Fju50XzArYDqNw5HsKKKP+APsdcAFgCjgBeKKKKZIUUUUDCiiigAooooAKKKKACiiigAooooAKKKKACiiigAooooAKKKKACiiigAooooAKKKKACiiigAooooAKKKKACiiigAooooAKKKKACiiigAooooAKKKKACiiigAooooAKKKKACiiigAooooAKKKKACiiigAooooAKKKKACiiigAq9bf6hfx/nRRSYI//Z)"
      ],
      "metadata": {
        "id": "WSJSy-Ca2oqg"
      }
    },
    {
      "cell_type": "code",
      "source": [
        ""
      ],
      "metadata": {
        "id": "jB2sTDFL2u3H"
      },
      "execution_count": null,
      "outputs": []
    }
  ]
}